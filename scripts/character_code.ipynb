{
 "cells": [
  {
   "cell_type": "markdown",
   "metadata": {},
   "source": [
    "# **Character Code**\n",
    "* 캐릭터 정보를 입력받아 캐릭터 코드를 반환받는 스크립트입니다.\n",
    "* 쿼리 작성 후, 원하는 캐릭터 정보를 확인한 후 캐릭터 코드를 요청합니다."
   ]
  },
  {
   "cell_type": "markdown",
   "metadata": {},
   "source": [
    "### **Import**"
   ]
  },
  {
   "cell_type": "code",
   "execution_count": 1,
   "metadata": {},
   "outputs": [],
   "source": [
    "from concurrent.futures import ThreadPoolExecutor, as_completed\n",
    "from src.api_request import DNF_API\n",
    "from configs.config import MYSQL_CONNECTION_STRING\n",
    "from configs.config import DATA_PATH\n",
    "from configs.config import API_KEYS\n",
    "from sqlalchemy import create_engine\n",
    "from datetime import datetime, timedelta\n",
    "from ratelimit import limits, sleep_and_retry\n",
    "from threading import BoundedSemaphore\n",
    "from glob import glob\n",
    "from tqdm import tqdm\n",
    "import pandas as pd\n",
    "import os\n",
    "\n",
    "# * 오전 06:00 전 데이터는 이전 날짜로 취급합니다.\n",
    "date = (datetime.now() - timedelta(hours=6)).strftime('%Y%m%d')\n",
    "engine = create_engine(MYSQL_CONNECTION_STRING)\n",
    "loaders = [DNF_API(api_key) for api_key in API_KEYS]\n",
    "\n",
    "%load_ext sql\n",
    "%sql {MYSQL_CONNECTION_STRING}"
   ]
  },
  {
   "cell_type": "markdown",
   "metadata": {},
   "source": [
    "### **캐릭터 코드 불러오기 - 멀티스레드**\n",
    "* 요청받은 직업의 캐릭터 정보들을 이용해 캐릭터 코드를 불러옵니다.\n",
    "* 속도를 높이기 위해 멀티스레드를 사용합니다."
   ]
  },
  {
   "cell_type": "code",
   "execution_count": 2,
   "metadata": {},
   "outputs": [],
   "source": [
    "\n",
    "semaphore = BoundedSemaphore(value=20)\n",
    "ONE_SECOND = 1\n",
    "\n",
    "@sleep_and_retry\n",
    "@limits(calls=110, period=ONE_SECOND)\n",
    "def request_char_code(loader: DNF_API, sv_eng: str, char_encoded_name: str):\n",
    "    \n",
    "    \"\"\"\n",
    "    ### Summary\n",
    "        - 캐릭터의 고유 id를 반환합니다.\n",
    "\n",
    "    ### Args\n",
    "        - loader (DNF_API) : DNF_API 인스턴스\n",
    "        - sv_eng (str) : 캐릭터 서버 (영문)\n",
    "        - char_name (str) : 캐릭터 이름 (인코딩 시 오류 감소)\n",
    "        \n",
    "    Returns:\n",
    "        characterId (str) : 캐릭터 코드 반환. 에러 발생시 None\n",
    "    \"\"\"\n",
    "    \n",
    "    try:\n",
    "        code = loader.character_search(sv_eng, char_encoded_name)\n",
    "        return code['characterId'][0]\n",
    "    except Exception as e:\n",
    "        return None\n",
    "\n",
    "\n",
    "def character_code(loaders: list, job_name: str, request_list: list, thread_num: int) -> list:\n",
    "\n",
    "    \"\"\"\n",
    "    ### Summary\n",
    "        - 캐릭터 정보 (영문 서버, 캐릭터 이름)들을 입력받아 캐릭터 코드를 반환하는 함수\n",
    "\n",
    "    ### Args\n",
    "        - loaders (list) : DNF 컨테이너가 담긴 리스트\n",
    "        - request_list (list[str,...,str]) : 요청할 캐릭터 정보\n",
    "        \n",
    "    Returns:\n",
    "        - result (list) : 캐릭터 코드 정보\n",
    "    \"\"\"\n",
    "\n",
    "    # step 1: 요청 리스트에 길이에 맞는 결과 리스트 생성\n",
    "    L = len(request_list)\n",
    "    result = [None]*L\n",
    "\n",
    "    with ThreadPoolExecutor(max_workers = thread_num) as executor:\n",
    "        \n",
    "        futures = []\n",
    "        for idx,(sv_eng,char_encoded_name) in enumerate(request_list):\n",
    "            \n",
    "            # step 2: 코드 요청하기\n",
    "            # * round robbin으로 loader 돌아가면서 사용\n",
    "            loader = loaders[idx%len(loaders)]\n",
    "            future = executor.submit(request_char_code,\n",
    "                                    loader, sv_eng, char_encoded_name)\n",
    "            futures.append((future, idx))\n",
    "\n",
    "        # step 3: 값 저장 및 진행상황 출력\n",
    "        for future, idx in tqdm(futures, total=len(futures), desc=f\"{job_name} 처리 중\"):\n",
    "            try:\n",
    "                code = future.result()\n",
    "                result[idx] = code\n",
    "                    \n",
    "            except Exception as e:\n",
    "                result[idx] = None\n",
    "    \n",
    "    return result"
   ]
  },
  {
   "cell_type": "markdown",
   "metadata": {},
   "source": [
    "#### **캐릭터 코드 추출**"
   ]
  },
  {
   "cell_type": "code",
   "execution_count": null,
   "metadata": {},
   "outputs": [],
   "source": [
    "\n",
    "\n",
    "# * 크롤링 날짜에 해당하는 캐릭터 정보 불러오기\n",
    "folder_path = os.path.join(DATA_PATH, 'crawling_data', f'{date}')\n",
    "csv_files = glob(os.path.join(folder_path, '*.csv'))\n",
    "\n",
    "for file in csv_files:\n",
    "    \n",
    "    # step 1 : 요청할 서버, 캐릭터 이름 정보 불러오기\n",
    "    job_name = file.split('\\\\')[-1][:-4]\n",
    "    \n",
    "    df = pd.read_csv(file, encoding='utf-8')\n",
    "    request_list = [tuple(row) for row in df[['sv_eng', 'char_name_encoded']].values]\n",
    "    \n",
    "    # step 2 : 캐릭터 코드 불러오기\n",
    "    df['char_code'] = character_code(loaders, job_name, request_list, 16)\n",
    "    \n",
    "    # step 3 : 로컬 저장\n",
    "    df.to_csv(file, index=False, encoding='utf-8')\n"
   ]
  }
 ],
 "metadata": {
  "kernelspec": {
   "display_name": "dnf_analysis",
   "language": "python",
   "name": "python3"
  },
  "language_info": {
   "codemirror_mode": {
    "name": "ipython",
    "version": 3
   },
   "file_extension": ".py",
   "mimetype": "text/x-python",
   "name": "python",
   "nbconvert_exporter": "python",
   "pygments_lexer": "ipython3",
   "version": "3.9.19"
  }
 },
 "nbformat": 4,
 "nbformat_minor": 2
}
