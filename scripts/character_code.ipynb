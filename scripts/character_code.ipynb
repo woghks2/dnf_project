{
 "cells": [
  {
   "cell_type": "markdown",
   "metadata": {},
   "source": [
    "# **Character Code**\n",
    "* 캐릭터 정보를 입력받아 캐릭터 코드를 반환받는 스크립트입니다.\n",
    "* 쿼리 작성 후, 원하는 캐릭터 정보를 확인한 후 캐릭터 코드를 요청합니다."
   ]
  },
  {
   "cell_type": "markdown",
   "metadata": {},
   "source": [
    "### **Import**"
   ]
  },
  {
   "cell_type": "code",
   "execution_count": null,
   "metadata": {},
   "outputs": [],
   "source": [
    "from concurrent.futures import ThreadPoolExecutor, as_completed\n",
    "from src.api_request import DNF_API\n",
    "from configs.config import MYSQL_CONNECTION_STRING\n",
    "from sqlalchemy import create_engine\n",
    "# from collections import defaultdict as dd\n",
    "import pandas as pd\n",
    "\n",
    "%load_ext sql\n",
    "%sql {MYSQL_CONNECTION_STRING}\n",
    "loader = DNF_API()\n",
    "engine = create_engine(MYSQL_CONNECTION_STRING)"
   ]
  },
  {
   "cell_type": "markdown",
   "metadata": {},
   "source": [
    "### **직업 정보 가져오기**\n",
    "* job_info 테이블에서 원하는 직업 또는 직업군을 선택합니다.\n"
   ]
  },
  {
   "cell_type": "code",
   "execution_count": null,
   "metadata": {},
   "outputs": [],
   "source": [
    "query = \"\"\"\n",
    "select *\n",
    "from job_info\n",
    "\"\"\"\n",
    "\n",
    "job_info = %sql {query}\n",
    "df_job_info = pd.DataFrame(job_info)\n",
    "df_job_info"
   ]
  },
  {
   "cell_type": "markdown",
   "metadata": {},
   "source": [
    "### **직업 데이터 가져오기**\n",
    "* 크롤링을 통해 DB에 저장한 character_info 테이블에서 \n"
   ]
  },
  {
   "cell_type": "code",
   "execution_count": null,
   "metadata": {},
   "outputs": [],
   "source": [
    "query = \"\"\"\n",
    "select *\n",
    "from character_info\n",
    "where job_name = '크리에이터'\n",
    "\"\"\"\n",
    "# where job_name in ('비질란테','헌터')\n",
    "\n",
    "request = %sql {query}\n",
    "request_list = list(request)\n",
    "df_request = pd.DataFrame(request)\n",
    "df_request.head()"
   ]
  },
  {
   "cell_type": "markdown",
   "metadata": {},
   "source": [
    "### **캐릭터 코드 불러오기 - 멀티스레드**\n",
    "* 요청받은 직업의 캐릭터 정보들을 이용해 캐릭터 코드를 불러옵니다.\n",
    "* 속도를 높이기 위해 멀티스레드를 사용합니다."
   ]
  },
  {
   "cell_type": "code",
   "execution_count": 17,
   "metadata": {},
   "outputs": [],
   "source": [
    "\n",
    "# todo : api_request에 추가 또는 script화 예정\n",
    "\n",
    "# * 성능 문제로 인해 iterrows(), apply lambda 등 사용 x\n",
    "# df['char_code'] = df.apply(lambda row: char_code(row['sv_eng'], row['char_name_encoded']), axis=1)\n",
    "# df.to_sql('new_character_info', con=engine, if_exists='replace', index=False)\n",
    "# 분당 약 1000개\n",
    "\n",
    "def request_char_code(sv_eng: str, char_name: str):\n",
    "    \n",
    "    \"\"\"\n",
    "    ### Summary\n",
    "        - 캐릭터의 고유 id를 반환합니다.\n",
    "\n",
    "    ### Args\n",
    "        - sv_eng (str) : 캐릭터 서버 (영문)\n",
    "        - char_name (str) : 캐릭터 이름 (인코딩 시 오류 감소)\n",
    "        \n",
    "    Returns:\n",
    "        characterId (str) : 캐릭터 코드 반환. 에러 발생시 None\n",
    "    \"\"\"\n",
    "    \n",
    "    try:\n",
    "        code = loader.character_search(sv_eng, char_name)\n",
    "        return code['characterId'][0]\n",
    "    except Exception as e:\n",
    "        print(f\"Error getting character code for {char_name}: {e}\")\n",
    "        return None\n",
    "\n",
    "\n",
    "def character_code(request_list: list, thread_num: int) -> list:\n",
    "\n",
    "    \"\"\"\n",
    "    ### Summary\n",
    "        - 캐릭터 정보 (영문 서버, 캐릭터 이름)들을 입력받아 캐릭터 코드를 반환하는 함수\n",
    "\n",
    "    ### Args\n",
    "        - request_list (list[str,...,str]) : 요청할 캐릭터 정보\n",
    "        \n",
    "    Returns:\n",
    "        - result (list) : 캐릭터 코드 정보\n",
    "    \"\"\"\n",
    "\n",
    "    L = len(request_list)\n",
    "    result = [None]*L\n",
    "\n",
    "    with ThreadPoolExecutor(max_workers = thread_num) as executor:\n",
    "        \n",
    "        futures = []\n",
    "        for idx,info in enumerate(request_list):\n",
    "            sv_eng = info[1]\n",
    "            char_name = info[-1]\n",
    "            future = executor.submit(request_char_code,\n",
    "                                    sv_eng, char_name)\n",
    "            futures.append((future, idx))\n",
    "\n",
    "        for future,idx in futures:\n",
    "            try:\n",
    "                code = future.result()\n",
    "                result[idx] = code\n",
    "                \n",
    "                if idx%1000 == 0:\n",
    "                    print(f\"Processed {(idx/L)*100:.2f}% ({idx}/{L}) rows\")\n",
    "                    \n",
    "            except Exception as e:\n",
    "                result[idx] = None\n",
    "                print(f\"Error in future for row {idx}: {e}\")\n",
    "                \n",
    "    print('complete')\n",
    "    \n",
    "    return result"
   ]
  },
  {
   "cell_type": "code",
   "execution_count": 15,
   "metadata": {},
   "outputs": [],
   "source": [
    "\n",
    "# df_request['char_code'] = character_code(request_list,16)\n",
    "# df_request.to_sql(f'db_name', con=engine,\n",
    "#                   if_exists='append', index=False)"
   ]
  }
 ],
 "metadata": {
  "kernelspec": {
   "display_name": "dnf_analysis",
   "language": "python",
   "name": "python3"
  },
  "language_info": {
   "codemirror_mode": {
    "name": "ipython",
    "version": 3
   },
   "file_extension": ".py",
   "mimetype": "text/x-python",
   "name": "python",
   "nbconvert_exporter": "python",
   "pygments_lexer": "ipython3",
   "version": "3.9.19"
  }
 },
 "nbformat": 4,
 "nbformat_minor": 2
}
