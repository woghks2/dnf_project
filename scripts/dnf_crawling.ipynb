{
 "cells": [
  {
   "cell_type": "markdown",
   "metadata": {},
   "source": [
    "# **Dungeon and Fighter Crawling**\n",
    "* 던전앤파이터 공식 홈페이지에서 직업, 명성을 바탕으로 캐릭터 정보를 크롤링합니다.\n",
    "* https://df.nexon.com/world/fame"
   ]
  },
  {
   "cell_type": "markdown",
   "metadata": {},
   "source": [
    "### **MySQL DB에 연결**"
   ]
  },
  {
   "cell_type": "code",
   "execution_count": 1,
   "metadata": {},
   "outputs": [],
   "source": [
    "from src.dnf_driver import DNF_DRIVER\n",
    "from configs.config import MYSQL_CONNECTION_STRING\n",
    "from configs.config import DATA_PATH\n",
    "from datetime import datetime, timedelta\n",
    "from glob import glob\n",
    "import pandas as pd\n",
    "import os\n",
    "\n",
    "%load_ext sql\n",
    "%sql {MYSQL_CONNECTION_STRING}"
   ]
  },
  {
   "cell_type": "markdown",
   "metadata": {},
   "source": [
    "### **직업 정보 가져오기**\n",
    "* job_info에서 크롤링을 원하는 직업 가져오기.\n"
   ]
  },
  {
   "cell_type": "code",
   "execution_count": null,
   "metadata": {},
   "outputs": [],
   "source": [
    "query = \"\"\"\n",
    "select *\n",
    "from job_info\n",
    "\"\"\"\n",
    "request = %sql {query}\n",
    "request_list = list(request)\n",
    "request_list"
   ]
  },
  {
   "cell_type": "markdown",
   "metadata": {},
   "source": [
    "### 크롤링 실행하기"
   ]
  },
  {
   "cell_type": "code",
   "execution_count": null,
   "metadata": {},
   "outputs": [],
   "source": [
    "\n",
    "# * 오전 06:00 전 데이터는 이전 날짜로 취급합니다.\n",
    "date = (datetime.now() - timedelta(hours=6)).strftime('%Y%m%d')\n",
    "folder_path = os.path.join(DATA_PATH, 'crawling_data', date)\n",
    "\n",
    "dd = DNF_DRIVER()\n",
    "for job_name, job_group, job_code in request_list:\n",
    "    \n",
    "    df = dd.crawling(job_group, job_name, job_code, 66000,66500)\n",
    "    \n",
    "    if not os.path.exists(folder_path):\n",
    "        os.makedirs(folder_path)\n",
    "    \n",
    "    file_path = os.path.join(folder_path, f'{job_name}.csv')\n",
    "    df.to_csv(file_path, encoding='utf-8', index=False)\n"
   ]
  },
  {
   "cell_type": "markdown",
   "metadata": {},
   "source": [
    "### 결과 데이터 통합 후 저장하기"
   ]
  },
  {
   "cell_type": "code",
   "execution_count": null,
   "metadata": {},
   "outputs": [],
   "source": [
    "csv_files = glob(os.path.join(folder_path, '*.csv'))\n",
    "\n",
    "if len(csv_files) == 67:\n",
    "    result = pd.DataFrame()\n",
    "    for file in csv_files:\n",
    "        df = pd.read_csv(file)\n",
    "        result = pd.concat([result, df], ignore_index=True)\n",
    "\n",
    "    file_path = os.path.join(folder_path, 'character.csv')\n",
    "    result.to_csv(file_path, encoding='utf-8', index=False)"
   ]
  }
 ],
 "metadata": {
  "kernelspec": {
   "display_name": "base",
   "language": "python",
   "name": "python3"
  },
  "language_info": {
   "codemirror_mode": {
    "name": "ipython",
    "version": 3
   },
   "file_extension": ".py",
   "mimetype": "text/x-python",
   "name": "python",
   "nbconvert_exporter": "python",
   "pygments_lexer": "ipython3",
   "version": "3.9.19"
  }
 },
 "nbformat": 4,
 "nbformat_minor": 2
}
